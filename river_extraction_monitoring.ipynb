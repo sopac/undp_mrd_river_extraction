{
 "cells": [
  {
   "cell_type": "markdown",
   "id": "4a28442d-c4f2-4a0c-9622-eb7788314dee",
   "metadata": {},
   "source": [
    "# UNDP Development Minerals 2 Illegal River Extraction Monitoring\n",
    "\n",
    "<u>Vectors</u>: \\\n",
    "**Vegetation Change Detection**:      Normalised Difference Vegetation Index (NDVI), Agriculture \\\n",
    "**River/Waterways Change Detection**: Normalised Difference Water Index (NDWI)  \\\n",
    "**Turbidity/Sediment Index**:         Normalised Difference Turbidity Index (NDTI) \\\n",
    "\n",
    "<u>Indicies</u>: \\\n",
    "**NDVI**: (NIR - RED) / (NIR + RED), (B08 - B04) / (B08 + B04) \\\n",
    "**NDWI**: (GREEN - NIR) / (GREEN + NIR) >= 0.3 - Water, < 0.3 - Non-water, (B8A - B11) / (B8A + B11) \\\n",
    "**NDTI**: (RED - GREEN) / (RED + GREEN) , (B04 - B03) / (B04 + BO3) \\\n",
    "**Agriculture**: B11, B08, B02 (SWIR16, NIR, BLUE) \n"
   ]
  },
  {
   "cell_type": "code",
   "execution_count": null,
   "id": "5ab67717-07a1-4769-b2ae-2ac72e8d6e8f",
   "metadata": {},
   "outputs": [],
   "source": [
    "!pip install -q leafmap"
   ]
  },
  {
   "cell_type": "code",
   "execution_count": null,
   "id": "ea7c7cfb-ecf6-4182-b707-718ae6899530",
   "metadata": {},
   "outputs": [],
   "source": [
    "import geopandas as gpd\n",
    "import matplotlib.pyplot as plt\n",
    "import leafmap\n",
    "import dask\n",
    "from dask_gateway import GatewayCluster\n",
    "from pystac_client import Client\n",
    "import planetary_computer as pc\n",
    "import stackstac\n",
    "import numpy as np\n",
    "import xarray as xr\n",
    "import xrspatial.multispectral as ms"
   ]
  },
  {
   "cell_type": "markdown",
   "id": "350f4ac1-5424-4be4-8323-d6b349fa7d58",
   "metadata": {},
   "source": [
    "### Area and Time Of Interest"
   ]
  },
  {
   "cell_type": "code",
   "execution_count": null,
   "id": "6e954782-1ac0-4889-bd9e-b8b7dbff290f",
   "metadata": {},
   "outputs": [],
   "source": [
    "local =  gpd.read_file('fiji_river_dawasamu.geojson')\n",
    "time_range = '2022-01-01/2022-12-31'\n",
    "\n",
    "area_of_interest = local.geometry[0]\n",
    "bbox = local.total_bounds\n",
    "local.explore()"
   ]
  },
  {
   "cell_type": "markdown",
   "id": "982faa83-8e21-4c80-b77b-5c35cb9416f2",
   "metadata": {},
   "source": [
    "### Setup Dask Cluster"
   ]
  },
  {
   "cell_type": "code",
   "execution_count": null,
   "id": "0e4c69d0-9a09-4f48-bbb3-e35d16f377bf",
   "metadata": {},
   "outputs": [],
   "source": [
    "cluster = GatewayCluster()  # Creates the Dask Scheduler. Might take a minute.\n",
    "client = cluster.get_client()\n",
    "cluster.adapt(minimum=4, maximum=100)\n",
    "print(cluster.dashboard_link)"
   ]
  },
  {
   "cell_type": "markdown",
   "id": "528bffc8-d923-4959-91ae-49d6c7d05dac",
   "metadata": {},
   "source": [
    "### Request Imageries (STAC)"
   ]
  },
  {
   "cell_type": "code",
   "execution_count": null,
   "id": "bf30d62b-8d1e-44be-af96-d51221e7b9a5",
   "metadata": {},
   "outputs": [],
   "source": [
    "catalog = Client.open(\"https://planetarycomputer.microsoft.com/api/stac/v1\")\n",
    "search = catalog.search(\n",
    "    collections=[\"sentinel-2-l2a\"],\n",
    "    intersects=area_of_interest, \n",
    "    datetime=time_range,\n",
    "    limit=500,  \n",
    "    query={\"eo:cloud_cover\": {\"lt\": 10}},\n",
    ")\n",
    "items = list(search.get_items())\n",
    "for item in items:\n",
    "    print(f\"{item.id}: {item.datetime}\")\n",
    "print(f\"{len(items)} Images Returned\")"
   ]
  },
  {
   "cell_type": "markdown",
   "id": "586de22a-8df7-4ab5-81c3-d5bb6bc99087",
   "metadata": {},
   "source": [
    "### Sign Images"
   ]
  },
  {
   "cell_type": "code",
   "execution_count": null,
   "id": "22fb7ec4-bb25-45df-be76-c4342e8b0557",
   "metadata": {},
   "outputs": [],
   "source": [
    "items = list(search.get_items())\n",
    "items = [pc.sign(item).to_dict() for item in items]"
   ]
  },
  {
   "cell_type": "markdown",
   "id": "3090ceb1-5414-4102-99b2-5ee6981d456f",
   "metadata": {},
   "source": [
    "### Stack Images Into Data (xarray)"
   ]
  },
  {
   "cell_type": "code",
   "execution_count": null,
   "id": "0cdd44ba-f037-4805-a91d-8ce8b7836210",
   "metadata": {},
   "outputs": [],
   "source": [
    "data = ( \n",
    "        stackstac.stack(items, \n",
    "                        bounds_latlon=bbox,\n",
    "                        assets=[\"B04\", \"B03\", \"B02\", \"B08\", \"B11\"],  # red, green, blue, nir, swir16\n",
    "                        chunksize=8124,\n",
    "                        resolution=500\n",
    "                       )\n",
    "        .where(lambda x: x > 0, other=np.nan)  # sentinel-2 uses 0 as nodata\n",
    "        .assign_coords(\n",
    "            band=lambda x: x.common_name.rename(\"band\"), # use common names\n",
    "            time=lambda x: x.time.dt.round(\"D\")\n",
    "        )  \n",
    "       )\n",
    "data"
   ]
  },
  {
   "cell_type": "markdown",
   "id": "59921f0b-bbdc-406c-84ce-25d2b74bc417",
   "metadata": {},
   "source": [
    "### Define Bands"
   ]
  },
  {
   "cell_type": "code",
   "execution_count": null,
   "id": "b285cddc-c35d-42bf-95e1-dded428c1b59",
   "metadata": {},
   "outputs": [],
   "source": [
    "red = data.sel(band=\"red\")\n",
    "blue = data.sel(band=\"blue\")\n",
    "green = data.sel(band=\"green\")\n",
    "nir = data.sel(band=\"nir\")\n",
    "swir = data.sel(band=\"swir16\")"
   ]
  },
  {
   "cell_type": "markdown",
   "id": "f554e7b4-23b7-4166-b507-408c37f54a17",
   "metadata": {},
   "source": [
    "### Vector: Agriculture Band Composite"
   ]
  },
  {
   "cell_type": "code",
   "execution_count": null,
   "id": "dce71194-1894-49f5-8d9c-ff9093535c53",
   "metadata": {},
   "outputs": [],
   "source": [
    "vegetation = data.sel(band=[\"swir16\", \"nir\", \"blue\"])"
   ]
  },
  {
   "cell_type": "code",
   "execution_count": null,
   "id": "796916ef-bd73-4b90-8078-02362f31879b",
   "metadata": {},
   "outputs": [],
   "source": [
    "vegetation.plot.imshow(x=\"x\", y=\"y\", col=\"time\", col_wrap=5, cmap=\"viridis\")#.compute()"
   ]
  },
  {
   "cell_type": "markdown",
   "id": "1f919b1e-4fd0-4d7b-a4ac-caef4749d938",
   "metadata": {},
   "source": [
    "### Vector: NDVI (Vegetation Index)"
   ]
  },
  {
   "cell_type": "code",
   "execution_count": null,
   "id": "398a29f9-dadc-491d-995e-b950ad6cdee5",
   "metadata": {},
   "outputs": [],
   "source": [
    "ndvi = ((nir - red) / (red + nir)).compute()\n",
    "#fig, ax = plt.subplots(figsize=(12, 12))\n",
    "#ndvi.plot.imshow(cmap=\"viridis\", vmin=-0.6, vmax=0.6, add_colorbar=False, ax=ax)\n",
    "#ax.set_axis_off()"
   ]
  },
  {
   "cell_type": "code",
   "execution_count": null,
   "id": "882014f8-4cb0-4345-a93f-e504d8ce894f",
   "metadata": {},
   "outputs": [],
   "source": [
    "ndvi.plot.imshow(x=\"x\", y=\"y\", col=\"time\", col_wrap=5, cmap=\"viridis\")"
   ]
  },
  {
   "cell_type": "markdown",
   "id": "d19bc759-2d71-415f-9d2c-161336ac3166",
   "metadata": {},
   "source": [
    "### Vector: NDWI (Water Index)"
   ]
  },
  {
   "cell_type": "code",
   "execution_count": null,
   "id": "de11065a-e4d1-4af1-9e92-2fc64584fb8d",
   "metadata": {},
   "outputs": [],
   "source": [
    "ndwi = ((green - nir) / (green + nir)).compute()\n",
    "#remove values less then 0.3"
   ]
  },
  {
   "cell_type": "code",
   "execution_count": null,
   "id": "eab9512a-c71d-4464-8c00-59965260cdc1",
   "metadata": {},
   "outputs": [],
   "source": [
    "ndwi.plot.imshow(x=\"x\", y=\"y\", col=\"time\", col_wrap=5, cmap=\"viridis\")"
   ]
  },
  {
   "cell_type": "markdown",
   "id": "2b738fc3-0d04-4d90-8111-8b9da3174369",
   "metadata": {},
   "source": [
    "### Vector: NDTI (Turbidity Index)"
   ]
  },
  {
   "cell_type": "code",
   "execution_count": null,
   "id": "70b980f7-d84f-41c2-832d-292f4c4b5b23",
   "metadata": {},
   "outputs": [],
   "source": [
    "ndti =  ((red - green) / (red + green)).compute()"
   ]
  },
  {
   "cell_type": "code",
   "execution_count": null,
   "id": "1ea28934-68e6-45bb-9a42-86230c45ec52",
   "metadata": {},
   "outputs": [],
   "source": [
    "ndti.plot.imshow(x=\"x\", y=\"y\", col=\"time\", col_wrap=5, cmap=\"viridis\")"
   ]
  },
  {
   "cell_type": "markdown",
   "id": "f28b1dcc-0c16-4e62-bf7a-e0148a757278",
   "metadata": {},
   "source": [
    "### Change Detection Threshold Definition \n",
    "Identification of AOI and DateTime of Extraction"
   ]
  },
  {
   "cell_type": "code",
   "execution_count": null,
   "id": "bf73e9ef-bab3-4397-92fe-1855f9c285a5",
   "metadata": {},
   "outputs": [],
   "source": [
    "ndvi_change_percent = 0.45\n",
    "ndwi_change_percent = 0.35\n",
    "ndti_change_percent = 0.70\n",
    "vegetation_change_percent = 0.25"
   ]
  },
  {
   "cell_type": "code",
   "execution_count": null,
   "id": "784c8c35-473e-4f15-82f8-00ce8f1d2335",
   "metadata": {},
   "outputs": [],
   "source": [
    "#TO BE IMPLEMENTED: calculating and aligning thresholds of the 4 vectors"
   ]
  }
 ],
 "metadata": {
  "kernelspec": {
   "display_name": "Python 3 (ipykernel)",
   "language": "python",
   "name": "python3"
  },
  "language_info": {
   "codemirror_mode": {
    "name": "ipython",
    "version": 3
   },
   "file_extension": ".py",
   "mimetype": "text/x-python",
   "name": "python",
   "nbconvert_exporter": "python",
   "pygments_lexer": "ipython3",
   "version": "3.8.12"
  }
 },
 "nbformat": 4,
 "nbformat_minor": 5
}
